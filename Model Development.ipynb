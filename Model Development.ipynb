{
 "cells": [
  {
   "cell_type": "markdown",
   "id": "bc012ff9-0db8-42f0-a0ac-896a537eab90",
   "metadata": {
    "jp-MarkdownHeadingCollapsed": true,
    "tags": []
   },
   "source": [
    "# 1. Setups"
   ]
  },
  {
   "cell_type": "markdown",
   "id": "2455d50c-2693-4700-9d77-03855323e318",
   "metadata": {
    "tags": []
   },
   "source": [
    "## 1.1 Install dependencies"
   ]
  },
  {
   "cell_type": "code",
   "execution_count": 130,
   "id": "8cd9d7ba-fc96-4707-9ba2-4918434587d1",
   "metadata": {
    "collapsed": true,
    "jupyter": {
     "outputs_hidden": true
    },
    "tags": []
   },
   "outputs": [
    {
     "name": "stdout",
     "output_type": "stream",
     "text": [
      "Requirement already satisfied: tensorflow==2.8.0 in /home/jack/anaconda3/lib/python3.9/site-packages (2.8.0)\n",
      "Requirement already satisfied: opencv-python in /home/jack/anaconda3/lib/python3.9/site-packages (4.7.0.68)\n",
      "Requirement already satisfied: matplotlib in /home/jack/anaconda3/lib/python3.9/site-packages (3.5.2)\n",
      "Requirement already satisfied: six>=1.12.0 in /home/jack/anaconda3/lib/python3.9/site-packages (from tensorflow==2.8.0) (1.16.0)\n",
      "Requirement already satisfied: opt-einsum>=2.3.2 in /home/jack/anaconda3/lib/python3.9/site-packages (from tensorflow==2.8.0) (3.3.0)\n",
      "Requirement already satisfied: tensorboard<2.9,>=2.8 in /home/jack/anaconda3/lib/python3.9/site-packages (from tensorflow==2.8.0) (2.8.0)\n",
      "Requirement already satisfied: protobuf>=3.9.2 in /home/jack/anaconda3/lib/python3.9/site-packages (from tensorflow==2.8.0) (3.20.1)\n",
      "Requirement already satisfied: flatbuffers>=1.12 in /home/jack/anaconda3/lib/python3.9/site-packages (from tensorflow==2.8.0) (22.12.6)\n",
      "Requirement already satisfied: absl-py>=0.4.0 in /home/jack/anaconda3/lib/python3.9/site-packages (from tensorflow==2.8.0) (1.3.0)\n",
      "Requirement already satisfied: grpcio<2.0,>=1.24.3 in /home/jack/anaconda3/lib/python3.9/site-packages (from tensorflow==2.8.0) (1.51.1)\n",
      "Requirement already satisfied: h5py>=2.9.0 in /home/jack/anaconda3/lib/python3.9/site-packages (from tensorflow==2.8.0) (3.7.0)\n",
      "Requirement already satisfied: termcolor>=1.1.0 in /home/jack/anaconda3/lib/python3.9/site-packages (from tensorflow==2.8.0) (2.1.1)\n",
      "Requirement already satisfied: google-pasta>=0.1.1 in /home/jack/anaconda3/lib/python3.9/site-packages (from tensorflow==2.8.0) (0.2.0)\n",
      "Requirement already satisfied: typing-extensions>=3.6.6 in /home/jack/anaconda3/lib/python3.9/site-packages (from tensorflow==2.8.0) (4.3.0)\n",
      "Requirement already satisfied: keras<2.9,>=2.8.0rc0 in /home/jack/anaconda3/lib/python3.9/site-packages (from tensorflow==2.8.0) (2.8.0)\n",
      "Requirement already satisfied: setuptools in /home/jack/anaconda3/lib/python3.9/site-packages (from tensorflow==2.8.0) (63.4.1)\n",
      "Requirement already satisfied: numpy>=1.20 in /home/jack/anaconda3/lib/python3.9/site-packages (from tensorflow==2.8.0) (1.21.5)\n",
      "Requirement already satisfied: wrapt>=1.11.0 in /home/jack/anaconda3/lib/python3.9/site-packages (from tensorflow==2.8.0) (1.14.1)\n",
      "Requirement already satisfied: libclang>=9.0.1 in /home/jack/anaconda3/lib/python3.9/site-packages (from tensorflow==2.8.0) (14.0.6)\n",
      "Requirement already satisfied: astunparse>=1.6.0 in /home/jack/anaconda3/lib/python3.9/site-packages (from tensorflow==2.8.0) (1.6.3)\n",
      "Requirement already satisfied: gast>=0.2.1 in /home/jack/anaconda3/lib/python3.9/site-packages (from tensorflow==2.8.0) (0.5.3)\n",
      "Requirement already satisfied: tf-estimator-nightly==2.8.0.dev2021122109 in /home/jack/anaconda3/lib/python3.9/site-packages (from tensorflow==2.8.0) (2.8.0.dev2021122109)\n",
      "Requirement already satisfied: keras-preprocessing>=1.1.1 in /home/jack/anaconda3/lib/python3.9/site-packages (from tensorflow==2.8.0) (1.1.2)\n",
      "Requirement already satisfied: tensorflow-io-gcs-filesystem>=0.23.1 in /home/jack/anaconda3/lib/python3.9/site-packages (from tensorflow==2.8.0) (0.29.0)\n",
      "Requirement already satisfied: pyparsing>=2.2.1 in /home/jack/anaconda3/lib/python3.9/site-packages (from matplotlib) (3.0.9)\n",
      "Requirement already satisfied: kiwisolver>=1.0.1 in /home/jack/anaconda3/lib/python3.9/site-packages (from matplotlib) (1.4.2)\n",
      "Requirement already satisfied: python-dateutil>=2.7 in /home/jack/anaconda3/lib/python3.9/site-packages (from matplotlib) (2.8.2)\n",
      "Requirement already satisfied: pillow>=6.2.0 in /home/jack/anaconda3/lib/python3.9/site-packages (from matplotlib) (9.2.0)\n",
      "Requirement already satisfied: cycler>=0.10 in /home/jack/anaconda3/lib/python3.9/site-packages (from matplotlib) (0.11.0)\n",
      "Requirement already satisfied: packaging>=20.0 in /home/jack/anaconda3/lib/python3.9/site-packages (from matplotlib) (21.3)\n",
      "Requirement already satisfied: fonttools>=4.22.0 in /home/jack/anaconda3/lib/python3.9/site-packages (from matplotlib) (4.25.0)\n",
      "Requirement already satisfied: wheel<1.0,>=0.23.0 in /home/jack/anaconda3/lib/python3.9/site-packages (from astunparse>=1.6.0->tensorflow==2.8.0) (0.37.1)\n",
      "Requirement already satisfied: requests<3,>=2.21.0 in /home/jack/anaconda3/lib/python3.9/site-packages (from tensorboard<2.9,>=2.8->tensorflow==2.8.0) (2.28.1)\n",
      "Requirement already satisfied: google-auth-oauthlib<0.5,>=0.4.1 in /home/jack/anaconda3/lib/python3.9/site-packages (from tensorboard<2.9,>=2.8->tensorflow==2.8.0) (0.4.6)\n",
      "Requirement already satisfied: tensorboard-data-server<0.7.0,>=0.6.0 in /home/jack/anaconda3/lib/python3.9/site-packages (from tensorboard<2.9,>=2.8->tensorflow==2.8.0) (0.6.1)\n",
      "Requirement already satisfied: markdown>=2.6.8 in /home/jack/anaconda3/lib/python3.9/site-packages (from tensorboard<2.9,>=2.8->tensorflow==2.8.0) (3.3.4)\n",
      "Requirement already satisfied: google-auth<3,>=1.6.3 in /home/jack/anaconda3/lib/python3.9/site-packages (from tensorboard<2.9,>=2.8->tensorflow==2.8.0) (2.15.0)\n",
      "Requirement already satisfied: werkzeug>=0.11.15 in /home/jack/anaconda3/lib/python3.9/site-packages (from tensorboard<2.9,>=2.8->tensorflow==2.8.0) (2.2.2)\n",
      "Requirement already satisfied: tensorboard-plugin-wit>=1.6.0 in /home/jack/anaconda3/lib/python3.9/site-packages (from tensorboard<2.9,>=2.8->tensorflow==2.8.0) (1.8.1)\n",
      "Requirement already satisfied: rsa<5,>=3.1.4 in /home/jack/anaconda3/lib/python3.9/site-packages (from google-auth<3,>=1.6.3->tensorboard<2.9,>=2.8->tensorflow==2.8.0) (4.9)\n",
      "Requirement already satisfied: cachetools<6.0,>=2.0.0 in /home/jack/anaconda3/lib/python3.9/site-packages (from google-auth<3,>=1.6.3->tensorboard<2.9,>=2.8->tensorflow==2.8.0) (5.2.0)\n",
      "Requirement already satisfied: pyasn1-modules>=0.2.1 in /home/jack/anaconda3/lib/python3.9/site-packages (from google-auth<3,>=1.6.3->tensorboard<2.9,>=2.8->tensorflow==2.8.0) (0.2.8)\n",
      "Requirement already satisfied: requests-oauthlib>=0.7.0 in /home/jack/anaconda3/lib/python3.9/site-packages (from google-auth-oauthlib<0.5,>=0.4.1->tensorboard<2.9,>=2.8->tensorflow==2.8.0) (1.3.1)\n",
      "Requirement already satisfied: urllib3<1.27,>=1.21.1 in /home/jack/anaconda3/lib/python3.9/site-packages (from requests<3,>=2.21.0->tensorboard<2.9,>=2.8->tensorflow==2.8.0) (1.26.11)\n",
      "Requirement already satisfied: idna<4,>=2.5 in /home/jack/anaconda3/lib/python3.9/site-packages (from requests<3,>=2.21.0->tensorboard<2.9,>=2.8->tensorflow==2.8.0) (3.3)\n",
      "Requirement already satisfied: certifi>=2017.4.17 in /home/jack/anaconda3/lib/python3.9/site-packages (from requests<3,>=2.21.0->tensorboard<2.9,>=2.8->tensorflow==2.8.0) (2022.9.14)\n",
      "Requirement already satisfied: charset-normalizer<3,>=2 in /home/jack/anaconda3/lib/python3.9/site-packages (from requests<3,>=2.21.0->tensorboard<2.9,>=2.8->tensorflow==2.8.0) (2.0.4)\n",
      "Requirement already satisfied: MarkupSafe>=2.1.1 in /home/jack/anaconda3/lib/python3.9/site-packages (from werkzeug>=0.11.15->tensorboard<2.9,>=2.8->tensorflow==2.8.0) (2.1.1)\n",
      "Requirement already satisfied: pyasn1<0.5.0,>=0.4.6 in /home/jack/anaconda3/lib/python3.9/site-packages (from pyasn1-modules>=0.2.1->google-auth<3,>=1.6.3->tensorboard<2.9,>=2.8->tensorflow==2.8.0) (0.4.8)\n",
      "Requirement already satisfied: oauthlib>=3.0.0 in /home/jack/anaconda3/lib/python3.9/site-packages (from requests-oauthlib>=0.7.0->google-auth-oauthlib<0.5,>=0.4.1->tensorboard<2.9,>=2.8->tensorflow==2.8.0) (3.2.2)\n"
     ]
    }
   ],
   "source": [
    "!pip install tensorflow==2.8.0 opencv-python matplotlib"
   ]
  },
  {
   "cell_type": "markdown",
   "id": "2a1639c4-434b-4360-ac19-90a761a99464",
   "metadata": {
    "jp-MarkdownHeadingCollapsed": true,
    "tags": []
   },
   "source": [
    "## 1.2 Import Dependencies"
   ]
  },
  {
   "cell_type": "code",
   "execution_count": 1,
   "id": "2ca61e10-378f-4a35-90fa-b8c4d61beb78",
   "metadata": {},
   "outputs": [],
   "source": [
    "import cv2\n",
    "import os\n",
    "import random\n",
    "import numpy as np\n",
    "import matplotlib\n",
    "import matplotlib.pyplot as plt\n",
    "import uuid"
   ]
  },
  {
   "cell_type": "code",
   "execution_count": 2,
   "id": "17b676cf-e091-43b1-9ba1-3583d0f6f8f5",
   "metadata": {},
   "outputs": [],
   "source": [
    "from tensorflow.keras.models import Model\n",
    "from tensorflow.keras.layers import Layer, Conv2D, Dense, MaxPooling2D, Input, Flatten\n",
    "import tensorflow as tf"
   ]
  },
  {
   "cell_type": "markdown",
   "id": "ef9ca0d7-741a-4ca6-9aca-da9458b3aa2d",
   "metadata": {
    "tags": []
   },
   "source": [
    "## 1.3 Set Directory structure"
   ]
  },
  {
   "cell_type": "code",
   "execution_count": 17,
   "id": "1cc4248b-2107-4018-96a0-ed69ab373a92",
   "metadata": {},
   "outputs": [],
   "source": [
    "ANCHOR_PATH = os.path.join('data','anchor')\n",
    "POSITIVE_PATH = os.path.join('data','positive')\n",
    "NEGATIVE_PATH = os.path.join('data','negative')"
   ]
  },
  {
   "cell_type": "code",
   "execution_count": null,
   "id": "9458438d-b559-46d2-b226-5cbc3f9bd8f8",
   "metadata": {},
   "outputs": [],
   "source": [
    "os.makedirs(ANCHOR_PATH)\n",
    "os.makedirs(POSITIVE_PATH)\n",
    "os.makedirs(NEGATIVE_PATH)"
   ]
  },
  {
   "cell_type": "markdown",
   "id": "db72e4e3-ead8-4b21-92ff-69f4b444beea",
   "metadata": {
    "jp-MarkdownHeadingCollapsed": true,
    "tags": []
   },
   "source": [
    "# 2 Collect Anchors and Positives"
   ]
  },
  {
   "cell_type": "markdown",
   "id": "085fe984-8fbe-4673-8aca-1ca2049806ad",
   "metadata": {
    "tags": []
   },
   "source": [
    "## 2.1 Get Labled Faces in wild dataset"
   ]
  },
  {
   "cell_type": "code",
   "execution_count": null,
   "id": "686c931a-118a-464e-9ae1-2836f406c36b",
   "metadata": {},
   "outputs": [],
   "source": [
    "# Download Dataset as .tgz file (~175mb)\n",
    "# Linux command\n",
    "!wget vis-www.cs.umass.edu/lfw/lfw.tgz\n",
    "# macOS Command\n",
    "# !curl -o foo.pdf 'http://server1.cyberciti.biz/foo.pdf'\n",
    "# Windows Powershell Command\n",
    "# !iwr -outf index.html https://superuser.com"
   ]
  },
  {
   "cell_type": "code",
   "execution_count": null,
   "id": "06078de8-ab59-434d-8f3e-91e04b0fb25f",
   "metadata": {},
   "outputs": [],
   "source": [
    "!tar -xf lfw.tgz"
   ]
  },
  {
   "cell_type": "code",
   "execution_count": null,
   "id": "3f961b9c-b874-4a1e-a443-41cd4537be05",
   "metadata": {},
   "outputs": [],
   "source": [
    "for directory in os.listdir('lfw'):\n",
    "    for file in os.listdir(os.path.join('lfw',directory)):\n",
    "        CURR_PATH = os.path.join('lfw',directory,file)\n",
    "        NEW_PATH = os.path.join(NEGATIVE_PATH,file)\n",
    "        os.replace(CURR_PATH,NEW_PATH)"
   ]
  },
  {
   "cell_type": "markdown",
   "id": "ed4a3e2a-2157-4bd7-8554-6b7fea435aa8",
   "metadata": {
    "jp-MarkdownHeadingCollapsed": true,
    "tags": []
   },
   "source": [
    "## 2.2 Collect OpenCV Images"
   ]
  },
  {
   "cell_type": "code",
   "execution_count": null,
   "id": "1780825f-1cc1-4f6a-9363-c97e9e7aef58",
   "metadata": {
    "tags": []
   },
   "outputs": [],
   "source": [
    "cap = cv2.VideoCapture(0)\n",
    "\n",
    "while cap.isOpened():\n",
    "    ret, frame = cap.read()\n",
    "    \n",
    "    # Cut from to 250x250px\n",
    "    frame = frame[100:100+250,200:200+250,:]\n",
    "    \n",
    "    \n",
    "    # Capture positives\n",
    "    if cv2.waitKey(1) & 0XFF == ord('p'):\n",
    "        image_path = os.path.join(POSITIVE_PATH,'{}.jpeg'.format(uuid.uuid1()))\n",
    "        cv2.imwrite(image_path,frame)\n",
    "    \n",
    "    \n",
    "    # Capture anchors\n",
    "    if cv2.waitKey(1) & 0XFF == ord('a'):\n",
    "        image_path = os.path.join(ANCHOR_PATH,'{}.jpeg'.format(uuid.uuid1()))\n",
    "        cv2.imwrite(image_path,frame)\n",
    "    \n",
    "        \n",
    "    cv2.imshow('Image Collection', frame)\n",
    "    \n",
    "    # Quit the Capture\n",
    "    if cv2.waitKey(1) & 0XFF == ord('q'):\n",
    "        break\n",
    "\n",
    "cap.release()\n",
    "cv2.destroyAllWindows()"
   ]
  },
  {
   "cell_type": "markdown",
   "id": "25b59a6b-a3fd-47b5-994e-bf20627c6f59",
   "metadata": {
    "jp-MarkdownHeadingCollapsed": true,
    "tags": []
   },
   "source": [
    "# 3 Load + Process Images"
   ]
  },
  {
   "cell_type": "markdown",
   "id": "b5a6b41f-40c5-413a-ad46-bcdf5940417d",
   "metadata": {
    "tags": []
   },
   "source": [
    "## 3.1 Get Image Directories"
   ]
  },
  {
   "cell_type": "code",
   "execution_count": 29,
   "id": "8db5d257-46de-488d-995a-a0d4747afd29",
   "metadata": {},
   "outputs": [],
   "source": [
    "tf.data.experimental.enable_debug_mode()"
   ]
  },
  {
   "cell_type": "code",
   "execution_count": 18,
   "id": "73a70e56-1898-4cae-8112-0b0784ba1c35",
   "metadata": {},
   "outputs": [],
   "source": [
    "anchors = tf.data.Dataset.list_files(ANCHOR_PATH+'/*.jpeg').take(300)\n",
    "positives = tf.data.Dataset.list_files(POSITIVE_PATH+'/*.jpeg').take(300)\n",
    "negatives = tf.data.Dataset.list_files(NEGATIVE_PATH+'/*.jpg').take(300)"
   ]
  },
  {
   "cell_type": "markdown",
   "id": "66304f09-282a-4f98-9d36-67a39c3bfe57",
   "metadata": {},
   "source": [
    "## 3.2 Preprocessing (Scale + Resize)"
   ]
  },
  {
   "cell_type": "code",
   "execution_count": null,
   "id": "5cbb8e86-f44b-419a-aa00-1ca178de5c64",
   "metadata": {},
   "outputs": [],
   "source": [
    "def preprocess(path):\n",
    "    # Read Image from path\n",
    "    byte_img = tf.io.read_file(path)\n",
    "    # Load Image\n",
    "    img = tf.io.decode_jpeg(byte_img)\n",
    "    # Resize image to 100x100px\n",
    "    img = tf.image.resize(img,(100,100))\n",
    "    # Scale px values to 0-1\n",
    "    img = img / 255.0\n",
    "    return img"
   ]
  },
  {
   "cell_type": "markdown",
   "id": "3ead0c4f-ee71-4ae5-abf3-27ad161f5290",
   "metadata": {},
   "source": [
    "## 3.3 Create Labled Dataset"
   ]
  },
  {
   "cell_type": "code",
   "execution_count": 19,
   "id": "318611f7-6a34-4437-bab2-12d5bdda4fc1",
   "metadata": {},
   "outputs": [],
   "source": [
    "positives = tf.data.Dataset.zip((anchors,positives,tf.data.Dataset.from_tensor_slices(tf.ones(len(anchors)))))\n",
    "negatives = tf.data.Dataset.zip((anchors,negatives,tf.data.Dataset.from_tensor_slices(tf.zeros(len(anchors)))))\n",
    "data = positives.concatenate(negatives)"
   ]
  },
  {
   "cell_type": "markdown",
   "id": "6832c6aa-ad60-4f08-aae8-e2b3f2d711a6",
   "metadata": {
    "tags": []
   },
   "source": [
    "## 3.4 Create Test Train Partition"
   ]
  },
  {
   "cell_type": "code",
   "execution_count": 20,
   "id": "ee0eb32a-cc25-40a1-bf06-29b57e549841",
   "metadata": {},
   "outputs": [],
   "source": [
    "def preprocess_twin(input_img, validation_img, label):\n",
    "    return (preprocess(input_img),preprocess(validation_img),label)"
   ]
  },
  {
   "cell_type": "code",
   "execution_count": 21,
   "id": "d0052794-c09e-48bc-9156-e3ee355f3e0c",
   "metadata": {},
   "outputs": [],
   "source": [
    "# Data Loader Pipeline\n",
    "data = data.map(preprocess_twin)\n",
    "data = data.cache()\n",
    "data = data.shuffle(buffer_size=1024)"
   ]
  },
  {
   "cell_type": "code",
   "execution_count": 22,
   "id": "21eeb5e1-be4c-4e5a-a534-20a8b17368b1",
   "metadata": {},
   "outputs": [],
   "source": [
    "# Train Data Partition\n",
    "train_prop = .7\n",
    "train_data = data.take(round(len(data)*train_prop))\n",
    "train_data = train_data.batch(2)\n",
    "train_data = train_data.prefetch(2)"
   ]
  },
  {
   "cell_type": "code",
   "execution_count": 23,
   "id": "3743d04e-fa1b-49a4-9628-3c6462bcaa37",
   "metadata": {},
   "outputs": [],
   "source": [
    "# Test Data Partition\n",
    "train_prop = .7\n",
    "test_data = data.skip(round(len(data)*train_prop))\n",
    "test_data = data.take(round(len(data)*(1-train_prop)))\n",
    "test_data = test_data.batch(6)\n",
    "test_data = test_data.prefetch(6)"
   ]
  },
  {
   "cell_type": "markdown",
   "id": "f03af4ca-ef33-4c92-a7b0-1bfb1f541ef9",
   "metadata": {
    "jp-MarkdownHeadingCollapsed": true,
    "tags": []
   },
   "source": [
    "# 4. Model Engineering"
   ]
  },
  {
   "cell_type": "markdown",
   "id": "30d32620-9487-4b7e-8b15-5aef4fa194c2",
   "metadata": {},
   "source": [
    "## 4.1 Embedding layer"
   ]
  },
  {
   "cell_type": "code",
   "execution_count": 64,
   "id": "735e9c9c-b95d-49be-936c-7f43b5ba016a",
   "metadata": {},
   "outputs": [],
   "source": [
    "def build_embeder():\n",
    "    inp = Input(shape=(100,100,3),name='input_image')\n",
    "    \n",
    "    # Block 1\n",
    "    c1 = Conv2D(64,(10,10),activation='relu')(inp)\n",
    "    mp1 = MaxPooling2D(64,(2,2),padding='same')(c1)\n",
    "    # Block 2\n",
    "    c2 = Conv2D(128,(7,7),activation='relu')(mp1)\n",
    "    mp2 = MaxPooling2D(64,(2,2),padding='same')(c2)\n",
    "    # Block 3\n",
    "    c3 = Conv2D(128,(4,4),activation='relu')(mp2)\n",
    "    mp3 = MaxPooling2D(64,(2,2),padding='same')(c3)\n",
    "    # Final Block\n",
    "    c4 = Conv2D(256,(4,4),activation='relu')(mp3)\n",
    "    fl1 = Flatten()(c4)\n",
    "    d1 = Dense(4096,activation='sigmoid')(fl1)\n",
    "    \n",
    "    return Model(inputs=[inp], outputs=[d1] ,name='embedding')"
   ]
  },
  {
   "cell_type": "code",
   "execution_count": 65,
   "id": "c0dee5ca-82dc-4520-8883-e21721681c52",
   "metadata": {},
   "outputs": [],
   "source": [
    "embedding = build_embeder()"
   ]
  },
  {
   "cell_type": "markdown",
   "id": "29f9cdd7-5890-4440-acff-03a4bfb64c91",
   "metadata": {
    "tags": []
   },
   "source": [
    "## 4.2 Distance Layer (Custom)"
   ]
  },
  {
   "cell_type": "code",
   "execution_count": 4,
   "id": "002c6668-7cc8-4e18-b847-a42447266da9",
   "metadata": {},
   "outputs": [],
   "source": [
    "# Siamese Distance Class\n",
    "class L1Dist(Layer):\n",
    "    def __init__(self,**kwargs):\n",
    "        super().__init__()\n",
    "        \n",
    "    def call(self, input_embedding, validation_embedding):\n",
    "        return tf.math.abs(input_embedding - validation_embedding)      "
   ]
  },
  {
   "cell_type": "markdown",
   "id": "61cf91a0-72fa-4ee6-a620-a468468e0d5f",
   "metadata": {},
   "source": [
    "## 4.3 Siamese Model"
   ]
  },
  {
   "cell_type": "code",
   "execution_count": 67,
   "id": "7452ff10-813e-4056-94c1-690c5bfd6be3",
   "metadata": {},
   "outputs": [],
   "source": [
    "def build_siamese_model():\n",
    "    \n",
    "    # Anchor Image\n",
    "    input_image = Input(shape=(100,100,3), name='input_image')\n",
    "    \n",
    "    # Validation Image\n",
    "    validation_image = Input(shape=(100,100,3), name='validation_image')\n",
    "    \n",
    "    # Combine siamese distance components\n",
    "    siamese_layer = L1Dist()\n",
    "    siamese_layer._name = 'distance'\n",
    "    distances = siamese_layer(embedding(input_image), embedding(validation_image))\n",
    "    \n",
    "    # Classifiaction Layer\n",
    "    classifier = Dense(1, activation='sigmoid', name='Classifier')(distances)\n",
    "    \n",
    "    return Model(inputs=[input_image, validation_image], outputs=[classifier],name=\"Siamese_Model\")\n",
    "    "
   ]
  },
  {
   "cell_type": "code",
   "execution_count": 68,
   "id": "3d88a22a-0222-4aae-b5d0-380221ad721f",
   "metadata": {},
   "outputs": [],
   "source": [
    "siamese_model = build_siamese_model()"
   ]
  },
  {
   "cell_type": "markdown",
   "id": "5785b5e6-b1b3-4cd3-823b-b0b176debceb",
   "metadata": {
    "jp-MarkdownHeadingCollapsed": true,
    "tags": []
   },
   "source": [
    "# 5 Model Training"
   ]
  },
  {
   "cell_type": "markdown",
   "id": "3e977f18-c075-41f9-a103-123ad496b26a",
   "metadata": {
    "jp-MarkdownHeadingCollapsed": true,
    "tags": []
   },
   "source": [
    "## 5.1 Loss Function and Optimiser"
   ]
  },
  {
   "cell_type": "code",
   "execution_count": 69,
   "id": "0cb7b0b7-5351-46c7-af7f-a01ca2b93316",
   "metadata": {},
   "outputs": [],
   "source": [
    "binary_cross_loss = tf.keras.losses.BinaryCrossentropy()"
   ]
  },
  {
   "cell_type": "code",
   "execution_count": 70,
   "id": "983669b5-27f3-42c8-8add-f85e8049ac1a",
   "metadata": {},
   "outputs": [],
   "source": [
    "opt = tf.keras.optimizers.Adam(1e-4)"
   ]
  },
  {
   "cell_type": "markdown",
   "id": "97fa8e4a-77d0-40ef-9aa1-38b84fe935b6",
   "metadata": {
    "jp-MarkdownHeadingCollapsed": true,
    "tags": []
   },
   "source": [
    "## 5.2 Set Checkpount callbacks"
   ]
  },
  {
   "cell_type": "code",
   "execution_count": 71,
   "id": "bc4b12ca-98f9-4e14-917d-ee54191f1a88",
   "metadata": {},
   "outputs": [],
   "source": [
    "checkpoint_dir = './training_checkpoints'\n",
    "checkpoint_prefix = os.path.join(checkpoint_dir,'ckpt')\n",
    "checkpoint = tf.train.Checkpoint(opt=opt, model=siamese_model)"
   ]
  },
  {
   "cell_type": "markdown",
   "id": "4b816646-16ed-4266-b5e1-b308de5b3f82",
   "metadata": {
    "tags": []
   },
   "source": [
    "## 5.3 Train Step Function"
   ]
  },
  {
   "cell_type": "code",
   "execution_count": 73,
   "id": "31525b29-77a0-46a5-8fa7-5160bbb10ef3",
   "metadata": {},
   "outputs": [],
   "source": [
    "# Allow Varible Creation\n",
    "tf.config.run_functions_eagerly(True)\n",
    "\n",
    "import time\n",
    "@tf.function\n",
    "def train_step(batch):\n",
    "    with tf.GradientTape() as tape:\n",
    "        s = time.time()\n",
    "        # Get Anchor and Validation Image\n",
    "        X = batch[:2]\n",
    "        # Get Label\n",
    "        y = batch[2]\n",
    "        \n",
    "        # Forward Pass\n",
    "        yhat = siamese_model(X,training=True)\n",
    "        # Calculate Loss\n",
    "        loss = binary_cross_loss(y,yhat)\n",
    "    # Calculate Graidents\n",
    "    gradients = tape.gradient(loss,siamese_model.trainable_variables)\n",
    "    # Calculate new wieghts and backprop\n",
    "    opt.apply_gradients(zip(gradients, siamese_model.trainable_variables))\n",
    "    return loss"
   ]
  },
  {
   "cell_type": "markdown",
   "id": "a4c0fef1-6f58-4988-ab5c-cbac785a49c5",
   "metadata": {
    "tags": []
   },
   "source": [
    "## 5.4 Training loop"
   ]
  },
  {
   "cell_type": "code",
   "execution_count": 74,
   "id": "fb4ab67e-74ac-4635-b336-6c61a274b14d",
   "metadata": {},
   "outputs": [],
   "source": [
    "def train(data, EPOCHS):\n",
    "    # Loop though Epochs\n",
    "    for epoch in range(1,EPOCHS+1):\n",
    "        print(f'Epoch {epoch}/{EPOCHS}')\n",
    "        prog_bar = tf.keras.utils.Progbar(len(data))\n",
    "    \n",
    "        # Loop through batch\n",
    "        for idx, batch in enumerate(data):\n",
    "            # Train Step\n",
    "            train_step(batch)\n",
    "            prog_bar.update(idx+1)\n",
    "            \n",
    "        # Save Checkpoint\n",
    "        if epoch % 5 == 0:\n",
    "            checkpoint.save(file_prefix=checkpoint_prefix)"
   ]
  },
  {
   "cell_type": "markdown",
   "id": "58cdc2e9-fa39-472e-a4ed-09075c76253e",
   "metadata": {
    "jp-MarkdownHeadingCollapsed": true,
    "tags": []
   },
   "source": [
    "## 5.5 Train Model"
   ]
  },
  {
   "cell_type": "code",
   "execution_count": 75,
   "id": "fae91380-e4cf-4258-a2a6-87cc05626070",
   "metadata": {},
   "outputs": [],
   "source": [
    "EPOCHS = 50"
   ]
  },
  {
   "cell_type": "code",
   "execution_count": null,
   "id": "806d8162-95e3-49fc-9f64-36426d307dd1",
   "metadata": {},
   "outputs": [],
   "source": [
    "train(train_data, EPOCHS)"
   ]
  },
  {
   "cell_type": "code",
   "execution_count": null,
   "id": "5f8c60c8-6896-4de0-b1db-f95b8ae5586b",
   "metadata": {},
   "outputs": [],
   "source": [
    "siamese_model.save('siamese_model.h5')"
   ]
  },
  {
   "cell_type": "markdown",
   "id": "3eedf89a-bec9-4077-acc2-bb748ccec8ba",
   "metadata": {
    "jp-MarkdownHeadingCollapsed": true,
    "tags": []
   },
   "source": [
    "# 6 Evauluate model"
   ]
  },
  {
   "cell_type": "markdown",
   "id": "7d4404b3-9c83-4eb4-8abe-38fbe826b5be",
   "metadata": {
    "jp-MarkdownHeadingCollapsed": true,
    "tags": []
   },
   "source": [
    "## 6.1 Load Model"
   ]
  },
  {
   "cell_type": "code",
   "execution_count": 5,
   "id": "8ec1f9ac-4ab6-4c4e-823c-bfeced07a548",
   "metadata": {},
   "outputs": [
    {
     "name": "stderr",
     "output_type": "stream",
     "text": [
      "2023-02-02 11:06:03.378834: W tensorflow/core/framework/cpu_allocator_impl.cc:82] Allocation of 150994944 exceeds 10% of free system memory.\n",
      "2023-02-02 11:06:03.663417: W tensorflow/core/framework/cpu_allocator_impl.cc:82] Allocation of 150994944 exceeds 10% of free system memory.\n",
      "2023-02-02 11:06:03.748601: W tensorflow/core/framework/cpu_allocator_impl.cc:82] Allocation of 150994944 exceeds 10% of free system memory.\n"
     ]
    },
    {
     "name": "stdout",
     "output_type": "stream",
     "text": [
      "WARNING:tensorflow:No training configuration found in the save file, so the model was *not* compiled. Compile it manually.\n"
     ]
    },
    {
     "name": "stderr",
     "output_type": "stream",
     "text": [
      "2023-02-02 11:06:04.957426: W tensorflow/core/framework/cpu_allocator_impl.cc:82] Allocation of 150994944 exceeds 10% of free system memory.\n"
     ]
    }
   ],
   "source": [
    "model = tf.keras.models.load_model('./siamese_model.h5', custom_objects={'L1Dist':L1Dist, 'BinaryCrossentropy': tf.losses.BinaryCrossentropy})"
   ]
  },
  {
   "cell_type": "markdown",
   "id": "5c28359a-8865-4484-a383-36e4e7595c27",
   "metadata": {
    "jp-MarkdownHeadingCollapsed": true,
    "tags": []
   },
   "source": [
    "## 6.2 Generate Metrics"
   ]
  },
  {
   "cell_type": "code",
   "execution_count": 24,
   "id": "ba93f8d7-ee72-42a0-8581-528fd3ec8182",
   "metadata": {},
   "outputs": [],
   "source": [
    "from tensorflow.keras.metrics import Recall, Precision"
   ]
  },
  {
   "cell_type": "code",
   "execution_count": 25,
   "id": "1ed31567-2c86-4b9c-ae98-f5ab7d2fd580",
   "metadata": {},
   "outputs": [],
   "source": [
    "r = Recall()\n",
    "p = Precision()"
   ]
  },
  {
   "cell_type": "code",
   "execution_count": 26,
   "id": "282f6b09-bd04-4422-a3e9-f3dd22877bea",
   "metadata": {},
   "outputs": [
    {
     "name": "stdout",
     "output_type": "stream",
     "text": [
      "1.066666666666667%%\n",
      "1.0\n"
     ]
    }
   ],
   "source": [
    "for idx, sample in enumerate(test_data):\n",
    "    X = sample[:2]\n",
    "    y = sample[2]\n",
    "    yhat = model(X,training=False)\n",
    "    \n",
    "    yhat = [1.0 if v > 0.5 else 0.0 for v in yhat]\n",
    "    r.update_state(y,yhat)\n",
    "    p.update_state(y,yhat)\n",
    "    \n",
    "    print(f'{idx/len(test_data) * 100}%', end='\\r')\n",
    "    \n",
    "print(p.result().numpy())\n",
    "print(r.result().numpy())"
   ]
  },
  {
   "cell_type": "code",
   "execution_count": 27,
   "id": "1d201bdb-9f1f-449e-bc57-e5e7572cba01",
   "metadata": {},
   "outputs": [
    {
     "name": "stdout",
     "output_type": "stream",
     "text": [
      "Precision: 100.0\n",
      "Recall: 100.0\n"
     ]
    }
   ],
   "source": [
    "print(f'Precision: {p.result().numpy() * 100}')\n",
    "print(f'Recall: {r.result().numpy() * 100}')"
   ]
  },
  {
   "cell_type": "markdown",
   "id": "994ef4be-8f55-4adb-bbb0-b68c7965bc2d",
   "metadata": {
    "jp-MarkdownHeadingCollapsed": true,
    "tags": []
   },
   "source": [
    "# 7 Intergrate with OpenCV (Optional)"
   ]
  },
  {
   "cell_type": "markdown",
   "id": "aed3c44c-cfeb-4dfc-af08-bd9104f90e5d",
   "metadata": {
    "jp-MarkdownHeadingCollapsed": true,
    "tags": []
   },
   "source": [
    "## 7.1 Get all Functions and Model"
   ]
  },
  {
   "cell_type": "code",
   "execution_count": 7,
   "id": "452dc787-8082-4c64-b74d-05b6210479eb",
   "metadata": {},
   "outputs": [],
   "source": [
    "import cv2\n",
    "import os\n",
    "import numpy as np\n",
    "from tensorflow.keras.layers import Layer\n",
    "import tensorflow as tf\n",
    "import uuid"
   ]
  },
  {
   "cell_type": "code",
   "execution_count": 8,
   "id": "13b7f70a-a5fb-4d5a-b880-01e635570ed9",
   "metadata": {},
   "outputs": [],
   "source": [
    "def preprocess(path):\n",
    "    # Read Image from path\n",
    "    byte_img = tf.io.read_file(path)\n",
    "    # Load Image\n",
    "    img = tf.io.decode_jpeg(byte_img)\n",
    "    # Resize image to 100x100px\n",
    "    img = tf.image.resize(img,(100,100))\n",
    "    # Scale px values to 0-1\n",
    "    img = img / 255.0\n",
    "    return img"
   ]
  },
  {
   "cell_type": "code",
   "execution_count": 9,
   "id": "596ac38f-3292-46b0-a516-278ec42abb51",
   "metadata": {},
   "outputs": [],
   "source": [
    "# Siamese Distance Class\n",
    "class L1Dist(Layer):\n",
    "    def __init__(self,**kwargs):\n",
    "        super().__init__()\n",
    "        \n",
    "    def call(self, input_embedding, validation_embedding):\n",
    "        return tf.math.abs(input_embedding - validation_embedding)"
   ]
  },
  {
   "cell_type": "code",
   "execution_count": 10,
   "id": "12cc9ff2-f5c6-4f80-b6df-9466739537b1",
   "metadata": {},
   "outputs": [],
   "source": [
    "def verify(model, detection_threshold, verifcation_threshold):\n",
    "    results = []\n",
    "    # Get all varification images\n",
    "    for image in os.listdir(os.path.join('application_data','verification_images')):\n",
    "        input_image = preprocess(os.path.join('application_data','input_image','input.jpg'))\n",
    "        ver_image = preprocess(os.path.join('application_data','verification_images',image))\n",
    "        # Use model to classify \n",
    "        res = model.predict(list(np.expand_dims([input_image,ver_image],axis=1)))\n",
    "        results.append(res)\n",
    "    # Detection theshold: Value over which is positive reuslt   \n",
    "    detection = np.sum(np.array(results) > detection_threshold)\n",
    "    # Verification Threshold: Number of positived required to verify\n",
    "    verifcation = detection/len(results)\n",
    "    verified = verifcation > verifcation_threshold\n",
    "    return results, verified\n",
    "        \n",
    "        "
   ]
  },
  {
   "cell_type": "code",
   "execution_count": 12,
   "id": "dfbcf962-9530-4cf8-814c-c9b6070ba078",
   "metadata": {},
   "outputs": [
    {
     "name": "stderr",
     "output_type": "stream",
     "text": [
      "2023-02-02 16:02:14.466044: W tensorflow/core/framework/cpu_allocator_impl.cc:82] Allocation of 150994944 exceeds 10% of free system memory.\n"
     ]
    },
    {
     "name": "stdout",
     "output_type": "stream",
     "text": [
      "WARNING:tensorflow:No training configuration found in the save file, so the model was *not* compiled. Compile it manually.\n"
     ]
    }
   ],
   "source": [
    "model = tf.keras.models.load_model('./app/siam_model.h5', custom_objects={'L1Dist':L1Dist, 'BinaryCrossentropy': tf.losses.BinaryCrossentropy})"
   ]
  },
  {
   "cell_type": "markdown",
   "id": "a9a96808-cca0-456e-854d-e823257e817e",
   "metadata": {
    "jp-MarkdownHeadingCollapsed": true,
    "tags": []
   },
   "source": [
    "## 7.2 Verify App Window"
   ]
  },
  {
   "cell_type": "code",
   "execution_count": 13,
   "id": "8ba874b1-4dbd-4914-976e-ef959bc89af8",
   "metadata": {},
   "outputs": [
    {
     "name": "stderr",
     "output_type": "stream",
     "text": [
      "QObject::moveToThread: Current thread (0x5cb1740) is not the object's thread (0x5c58a20).\n",
      "Cannot move to target thread (0x5cb1740)\n",
      "\n",
      "QObject::moveToThread: Current thread (0x5cb1740) is not the object's thread (0x5c58a20).\n",
      "Cannot move to target thread (0x5cb1740)\n",
      "\n",
      "QObject::moveToThread: Current thread (0x5cb1740) is not the object's thread (0x5c58a20).\n",
      "Cannot move to target thread (0x5cb1740)\n",
      "\n",
      "QObject::moveToThread: Current thread (0x5cb1740) is not the object's thread (0x5c58a20).\n",
      "Cannot move to target thread (0x5cb1740)\n",
      "\n",
      "QObject::moveToThread: Current thread (0x5cb1740) is not the object's thread (0x5c58a20).\n",
      "Cannot move to target thread (0x5cb1740)\n",
      "\n",
      "QObject::moveToThread: Current thread (0x5cb1740) is not the object's thread (0x5c58a20).\n",
      "Cannot move to target thread (0x5cb1740)\n",
      "\n",
      "QObject::moveToThread: Current thread (0x5cb1740) is not the object's thread (0x5c58a20).\n",
      "Cannot move to target thread (0x5cb1740)\n",
      "\n",
      "QObject::moveToThread: Current thread (0x5cb1740) is not the object's thread (0x5c58a20).\n",
      "Cannot move to target thread (0x5cb1740)\n",
      "\n",
      "QObject::moveToThread: Current thread (0x5cb1740) is not the object's thread (0x5c58a20).\n",
      "Cannot move to target thread (0x5cb1740)\n",
      "\n",
      "QObject::moveToThread: Current thread (0x5cb1740) is not the object's thread (0x5c58a20).\n",
      "Cannot move to target thread (0x5cb1740)\n",
      "\n",
      "QObject::moveToThread: Current thread (0x5cb1740) is not the object's thread (0x5c58a20).\n",
      "Cannot move to target thread (0x5cb1740)\n",
      "\n",
      "QObject::moveToThread: Current thread (0x5cb1740) is not the object's thread (0x5c58a20).\n",
      "Cannot move to target thread (0x5cb1740)\n",
      "\n",
      "QObject::moveToThread: Current thread (0x5cb1740) is not the object's thread (0x5c58a20).\n",
      "Cannot move to target thread (0x5cb1740)\n",
      "\n",
      "QObject::moveToThread: Current thread (0x5cb1740) is not the object's thread (0x5c58a20).\n",
      "Cannot move to target thread (0x5cb1740)\n",
      "\n",
      "QObject::moveToThread: Current thread (0x5cb1740) is not the object's thread (0x5c58a20).\n",
      "Cannot move to target thread (0x5cb1740)\n",
      "\n",
      "QObject::moveToThread: Current thread (0x5cb1740) is not the object's thread (0x5c58a20).\n",
      "Cannot move to target thread (0x5cb1740)\n",
      "\n",
      "QObject::moveToThread: Current thread (0x5cb1740) is not the object's thread (0x5c58a20).\n",
      "Cannot move to target thread (0x5cb1740)\n",
      "\n",
      "QObject::moveToThread: Current thread (0x5cb1740) is not the object's thread (0x5c58a20).\n",
      "Cannot move to target thread (0x5cb1740)\n",
      "\n",
      "QObject::moveToThread: Current thread (0x5cb1740) is not the object's thread (0x5c58a20).\n",
      "Cannot move to target thread (0x5cb1740)\n",
      "\n",
      "QObject::moveToThread: Current thread (0x5cb1740) is not the object's thread (0x5c58a20).\n",
      "Cannot move to target thread (0x5cb1740)\n",
      "\n",
      "QObject::moveToThread: Current thread (0x5cb1740) is not the object's thread (0x5c58a20).\n",
      "Cannot move to target thread (0x5cb1740)\n",
      "\n",
      "QObject::moveToThread: Current thread (0x5cb1740) is not the object's thread (0x5c58a20).\n",
      "Cannot move to target thread (0x5cb1740)\n",
      "\n",
      "QObject::moveToThread: Current thread (0x5cb1740) is not the object's thread (0x5c58a20).\n",
      "Cannot move to target thread (0x5cb1740)\n",
      "\n",
      "QObject::moveToThread: Current thread (0x5cb1740) is not the object's thread (0x5c58a20).\n",
      "Cannot move to target thread (0x5cb1740)\n",
      "\n",
      "QObject::moveToThread: Current thread (0x5cb1740) is not the object's thread (0x5c58a20).\n",
      "Cannot move to target thread (0x5cb1740)\n",
      "\n",
      "QObject::moveToThread: Current thread (0x5cb1740) is not the object's thread (0x5c58a20).\n",
      "Cannot move to target thread (0x5cb1740)\n",
      "\n",
      "QObject::moveToThread: Current thread (0x5cb1740) is not the object's thread (0x5c58a20).\n",
      "Cannot move to target thread (0x5cb1740)\n",
      "\n",
      "QObject::moveToThread: Current thread (0x5cb1740) is not the object's thread (0x5c58a20).\n",
      "Cannot move to target thread (0x5cb1740)\n",
      "\n",
      "QObject::moveToThread: Current thread (0x5cb1740) is not the object's thread (0x5c58a20).\n",
      "Cannot move to target thread (0x5cb1740)\n",
      "\n",
      "QObject::moveToThread: Current thread (0x5cb1740) is not the object's thread (0x5c58a20).\n",
      "Cannot move to target thread (0x5cb1740)\n",
      "\n",
      "QObject::moveToThread: Current thread (0x5cb1740) is not the object's thread (0x5c58a20).\n",
      "Cannot move to target thread (0x5cb1740)\n",
      "\n",
      "QObject::moveToThread: Current thread (0x5cb1740) is not the object's thread (0x5c58a20).\n",
      "Cannot move to target thread (0x5cb1740)\n",
      "\n",
      "QObject::moveToThread: Current thread (0x5cb1740) is not the object's thread (0x5c58a20).\n",
      "Cannot move to target thread (0x5cb1740)\n",
      "\n",
      "QObject::moveToThread: Current thread (0x5cb1740) is not the object's thread (0x5c58a20).\n",
      "Cannot move to target thread (0x5cb1740)\n",
      "\n",
      "QObject::moveToThread: Current thread (0x5cb1740) is not the object's thread (0x5c58a20).\n",
      "Cannot move to target thread (0x5cb1740)\n",
      "\n",
      "QObject::moveToThread: Current thread (0x5cb1740) is not the object's thread (0x5c58a20).\n",
      "Cannot move to target thread (0x5cb1740)\n",
      "\n",
      "QObject::moveToThread: Current thread (0x5cb1740) is not the object's thread (0x5c58a20).\n",
      "Cannot move to target thread (0x5cb1740)\n",
      "\n",
      "QObject::moveToThread: Current thread (0x5cb1740) is not the object's thread (0x5c58a20).\n",
      "Cannot move to target thread (0x5cb1740)\n",
      "\n",
      "QObject::moveToThread: Current thread (0x5cb1740) is not the object's thread (0x5c58a20).\n",
      "Cannot move to target thread (0x5cb1740)\n",
      "\n",
      "QObject::moveToThread: Current thread (0x5cb1740) is not the object's thread (0x5c58a20).\n",
      "Cannot move to target thread (0x5cb1740)\n",
      "\n",
      "QObject::moveToThread: Current thread (0x5cb1740) is not the object's thread (0x5c58a20).\n",
      "Cannot move to target thread (0x5cb1740)\n",
      "\n",
      "QObject::moveToThread: Current thread (0x5cb1740) is not the object's thread (0x5c58a20).\n",
      "Cannot move to target thread (0x5cb1740)\n",
      "\n",
      "QObject::moveToThread: Current thread (0x5cb1740) is not the object's thread (0x5c58a20).\n",
      "Cannot move to target thread (0x5cb1740)\n",
      "\n",
      "QObject::moveToThread: Current thread (0x5cb1740) is not the object's thread (0x5c58a20).\n",
      "Cannot move to target thread (0x5cb1740)\n",
      "\n",
      "QObject::moveToThread: Current thread (0x5cb1740) is not the object's thread (0x5c58a20).\n",
      "Cannot move to target thread (0x5cb1740)\n",
      "\n",
      "QObject::moveToThread: Current thread (0x5cb1740) is not the object's thread (0x5c58a20).\n",
      "Cannot move to target thread (0x5cb1740)\n",
      "\n",
      "QObject::moveToThread: Current thread (0x5cb1740) is not the object's thread (0x5c58a20).\n",
      "Cannot move to target thread (0x5cb1740)\n",
      "\n",
      "QObject::moveToThread: Current thread (0x5cb1740) is not the object's thread (0x5c58a20).\n",
      "Cannot move to target thread (0x5cb1740)\n",
      "\n",
      "QObject::moveToThread: Current thread (0x5cb1740) is not the object's thread (0x5c58a20).\n",
      "Cannot move to target thread (0x5cb1740)\n",
      "\n",
      "QObject::moveToThread: Current thread (0x5cb1740) is not the object's thread (0x5c58a20).\n",
      "Cannot move to target thread (0x5cb1740)\n",
      "\n",
      "QObject::moveToThread: Current thread (0x5cb1740) is not the object's thread (0x5c58a20).\n",
      "Cannot move to target thread (0x5cb1740)\n",
      "\n",
      "QObject::moveToThread: Current thread (0x5cb1740) is not the object's thread (0x5c58a20).\n",
      "Cannot move to target thread (0x5cb1740)\n",
      "\n",
      "QObject::moveToThread: Current thread (0x5cb1740) is not the object's thread (0x5c58a20).\n",
      "Cannot move to target thread (0x5cb1740)\n",
      "\n",
      "QObject::moveToThread: Current thread (0x5cb1740) is not the object's thread (0x5c58a20).\n",
      "Cannot move to target thread (0x5cb1740)\n",
      "\n",
      "QObject::moveToThread: Current thread (0x5cb1740) is not the object's thread (0x5c58a20).\n",
      "Cannot move to target thread (0x5cb1740)\n",
      "\n",
      "QObject::moveToThread: Current thread (0x5cb1740) is not the object's thread (0x5c58a20).\n",
      "Cannot move to target thread (0x5cb1740)\n",
      "\n",
      "QObject::moveToThread: Current thread (0x5cb1740) is not the object's thread (0x5c58a20).\n",
      "Cannot move to target thread (0x5cb1740)\n",
      "\n",
      "QObject::moveToThread: Current thread (0x5cb1740) is not the object's thread (0x5c58a20).\n",
      "Cannot move to target thread (0x5cb1740)\n",
      "\n",
      "QObject::moveToThread: Current thread (0x5cb1740) is not the object's thread (0x5c58a20).\n",
      "Cannot move to target thread (0x5cb1740)\n",
      "\n",
      "QObject::moveToThread: Current thread (0x5cb1740) is not the object's thread (0x5c58a20).\n",
      "Cannot move to target thread (0x5cb1740)\n",
      "\n",
      "QObject::moveToThread: Current thread (0x5cb1740) is not the object's thread (0x5c58a20).\n",
      "Cannot move to target thread (0x5cb1740)\n",
      "\n",
      "QObject::moveToThread: Current thread (0x5cb1740) is not the object's thread (0x5c58a20).\n",
      "Cannot move to target thread (0x5cb1740)\n",
      "\n",
      "QObject::moveToThread: Current thread (0x5cb1740) is not the object's thread (0x5c58a20).\n",
      "Cannot move to target thread (0x5cb1740)\n",
      "\n",
      "QObject::moveToThread: Current thread (0x5cb1740) is not the object's thread (0x5c58a20).\n",
      "Cannot move to target thread (0x5cb1740)\n",
      "\n",
      "QObject::moveToThread: Current thread (0x5cb1740) is not the object's thread (0x5c58a20).\n",
      "Cannot move to target thread (0x5cb1740)\n",
      "\n",
      "QObject::moveToThread: Current thread (0x5cb1740) is not the object's thread (0x5c58a20).\n",
      "Cannot move to target thread (0x5cb1740)\n",
      "\n",
      "QObject::moveToThread: Current thread (0x5cb1740) is not the object's thread (0x5c58a20).\n",
      "Cannot move to target thread (0x5cb1740)\n",
      "\n",
      "QObject::moveToThread: Current thread (0x5cb1740) is not the object's thread (0x5c58a20).\n",
      "Cannot move to target thread (0x5cb1740)\n",
      "\n",
      "QObject::moveToThread: Current thread (0x5cb1740) is not the object's thread (0x5c58a20).\n",
      "Cannot move to target thread (0x5cb1740)\n",
      "\n",
      "QObject::moveToThread: Current thread (0x5cb1740) is not the object's thread (0x5c58a20).\n",
      "Cannot move to target thread (0x5cb1740)\n",
      "\n",
      "QObject::moveToThread: Current thread (0x5cb1740) is not the object's thread (0x5c58a20).\n",
      "Cannot move to target thread (0x5cb1740)\n",
      "\n",
      "QObject::moveToThread: Current thread (0x5cb1740) is not the object's thread (0x5c58a20).\n",
      "Cannot move to target thread (0x5cb1740)\n",
      "\n",
      "QObject::moveToThread: Current thread (0x5cb1740) is not the object's thread (0x5c58a20).\n",
      "Cannot move to target thread (0x5cb1740)\n",
      "\n",
      "QObject::moveToThread: Current thread (0x5cb1740) is not the object's thread (0x5c58a20).\n",
      "Cannot move to target thread (0x5cb1740)\n",
      "\n",
      "QObject::moveToThread: Current thread (0x5cb1740) is not the object's thread (0x5c58a20).\n",
      "Cannot move to target thread (0x5cb1740)\n",
      "\n",
      "QObject::moveToThread: Current thread (0x5cb1740) is not the object's thread (0x5c58a20).\n",
      "Cannot move to target thread (0x5cb1740)\n",
      "\n",
      "QObject::moveToThread: Current thread (0x5cb1740) is not the object's thread (0x5c58a20).\n",
      "Cannot move to target thread (0x5cb1740)\n",
      "\n",
      "QObject::moveToThread: Current thread (0x5cb1740) is not the object's thread (0x5c58a20).\n",
      "Cannot move to target thread (0x5cb1740)\n",
      "\n",
      "QObject::moveToThread: Current thread (0x5cb1740) is not the object's thread (0x5c58a20).\n",
      "Cannot move to target thread (0x5cb1740)\n",
      "\n",
      "QObject::moveToThread: Current thread (0x5cb1740) is not the object's thread (0x5c58a20).\n",
      "Cannot move to target thread (0x5cb1740)\n",
      "\n",
      "QObject::moveToThread: Current thread (0x5cb1740) is not the object's thread (0x5c58a20).\n",
      "Cannot move to target thread (0x5cb1740)\n",
      "\n",
      "QObject::moveToThread: Current thread (0x5cb1740) is not the object's thread (0x5c58a20).\n",
      "Cannot move to target thread (0x5cb1740)\n",
      "\n",
      "QObject::moveToThread: Current thread (0x5cb1740) is not the object's thread (0x5c58a20).\n",
      "Cannot move to target thread (0x5cb1740)\n",
      "\n",
      "QObject::moveToThread: Current thread (0x5cb1740) is not the object's thread (0x5c58a20).\n",
      "Cannot move to target thread (0x5cb1740)\n",
      "\n",
      "QObject::moveToThread: Current thread (0x5cb1740) is not the object's thread (0x5c58a20).\n",
      "Cannot move to target thread (0x5cb1740)\n",
      "\n",
      "QObject::moveToThread: Current thread (0x5cb1740) is not the object's thread (0x5c58a20).\n",
      "Cannot move to target thread (0x5cb1740)\n",
      "\n",
      "QObject::moveToThread: Current thread (0x5cb1740) is not the object's thread (0x5c58a20).\n",
      "Cannot move to target thread (0x5cb1740)\n",
      "\n",
      "QObject::moveToThread: Current thread (0x5cb1740) is not the object's thread (0x5c58a20).\n",
      "Cannot move to target thread (0x5cb1740)\n",
      "\n",
      "QObject::moveToThread: Current thread (0x5cb1740) is not the object's thread (0x5c58a20).\n",
      "Cannot move to target thread (0x5cb1740)\n",
      "\n",
      "QObject::moveToThread: Current thread (0x5cb1740) is not the object's thread (0x5c58a20).\n",
      "Cannot move to target thread (0x5cb1740)\n",
      "\n",
      "QObject::moveToThread: Current thread (0x5cb1740) is not the object's thread (0x5c58a20).\n",
      "Cannot move to target thread (0x5cb1740)\n",
      "\n",
      "QObject::moveToThread: Current thread (0x5cb1740) is not the object's thread (0x5c58a20).\n",
      "Cannot move to target thread (0x5cb1740)\n",
      "\n",
      "QObject::moveToThread: Current thread (0x5cb1740) is not the object's thread (0x5c58a20).\n",
      "Cannot move to target thread (0x5cb1740)\n",
      "\n",
      "QObject::moveToThread: Current thread (0x5cb1740) is not the object's thread (0x5c58a20).\n",
      "Cannot move to target thread (0x5cb1740)\n",
      "\n",
      "QObject::moveToThread: Current thread (0x5cb1740) is not the object's thread (0x5c58a20).\n",
      "Cannot move to target thread (0x5cb1740)\n",
      "\n",
      "QObject::moveToThread: Current thread (0x5cb1740) is not the object's thread (0x5c58a20).\n",
      "Cannot move to target thread (0x5cb1740)\n",
      "\n",
      "QObject::moveToThread: Current thread (0x5cb1740) is not the object's thread (0x5c58a20).\n",
      "Cannot move to target thread (0x5cb1740)\n",
      "\n",
      "QObject::moveToThread: Current thread (0x5cb1740) is not the object's thread (0x5c58a20).\n",
      "Cannot move to target thread (0x5cb1740)\n",
      "\n",
      "QObject::moveToThread: Current thread (0x5cb1740) is not the object's thread (0x5c58a20).\n",
      "Cannot move to target thread (0x5cb1740)\n",
      "\n",
      "QObject::moveToThread: Current thread (0x5cb1740) is not the object's thread (0x5c58a20).\n",
      "Cannot move to target thread (0x5cb1740)\n",
      "\n",
      "QObject::moveToThread: Current thread (0x5cb1740) is not the object's thread (0x5c58a20).\n",
      "Cannot move to target thread (0x5cb1740)\n",
      "\n",
      "QObject::moveToThread: Current thread (0x5cb1740) is not the object's thread (0x5c58a20).\n",
      "Cannot move to target thread (0x5cb1740)\n",
      "\n",
      "QObject::moveToThread: Current thread (0x5cb1740) is not the object's thread (0x5c58a20).\n",
      "Cannot move to target thread (0x5cb1740)\n",
      "\n",
      "QObject::moveToThread: Current thread (0x5cb1740) is not the object's thread (0x5c58a20).\n",
      "Cannot move to target thread (0x5cb1740)\n",
      "\n",
      "QObject::moveToThread: Current thread (0x5cb1740) is not the object's thread (0x5c58a20).\n",
      "Cannot move to target thread (0x5cb1740)\n",
      "\n",
      "QObject::moveToThread: Current thread (0x5cb1740) is not the object's thread (0x5c58a20).\n",
      "Cannot move to target thread (0x5cb1740)\n",
      "\n",
      "QObject::moveToThread: Current thread (0x5cb1740) is not the object's thread (0x5c58a20).\n",
      "Cannot move to target thread (0x5cb1740)\n",
      "\n",
      "QObject::moveToThread: Current thread (0x5cb1740) is not the object's thread (0x5c58a20).\n",
      "Cannot move to target thread (0x5cb1740)\n",
      "\n",
      "QObject::moveToThread: Current thread (0x5cb1740) is not the object's thread (0x5c58a20).\n",
      "Cannot move to target thread (0x5cb1740)\n",
      "\n",
      "QObject::moveToThread: Current thread (0x5cb1740) is not the object's thread (0x5c58a20).\n",
      "Cannot move to target thread (0x5cb1740)\n",
      "\n",
      "QObject::moveToThread: Current thread (0x5cb1740) is not the object's thread (0x5c58a20).\n",
      "Cannot move to target thread (0x5cb1740)\n",
      "\n",
      "QObject::moveToThread: Current thread (0x5cb1740) is not the object's thread (0x5c58a20).\n",
      "Cannot move to target thread (0x5cb1740)\n",
      "\n",
      "QObject::moveToThread: Current thread (0x5cb1740) is not the object's thread (0x5c58a20).\n",
      "Cannot move to target thread (0x5cb1740)\n",
      "\n",
      "QObject::moveToThread: Current thread (0x5cb1740) is not the object's thread (0x5c58a20).\n",
      "Cannot move to target thread (0x5cb1740)\n",
      "\n",
      "QObject::moveToThread: Current thread (0x5cb1740) is not the object's thread (0x5c58a20).\n",
      "Cannot move to target thread (0x5cb1740)\n",
      "\n",
      "QObject::moveToThread: Current thread (0x5cb1740) is not the object's thread (0x5c58a20).\n",
      "Cannot move to target thread (0x5cb1740)\n",
      "\n",
      "QObject::moveToThread: Current thread (0x5cb1740) is not the object's thread (0x5c58a20).\n",
      "Cannot move to target thread (0x5cb1740)\n",
      "\n",
      "QObject::moveToThread: Current thread (0x5cb1740) is not the object's thread (0x5c58a20).\n",
      "Cannot move to target thread (0x5cb1740)\n",
      "\n",
      "QObject::moveToThread: Current thread (0x5cb1740) is not the object's thread (0x5c58a20).\n",
      "Cannot move to target thread (0x5cb1740)\n",
      "\n",
      "QObject::moveToThread: Current thread (0x5cb1740) is not the object's thread (0x5c58a20).\n",
      "Cannot move to target thread (0x5cb1740)\n",
      "\n",
      "QObject::moveToThread: Current thread (0x5cb1740) is not the object's thread (0x5c58a20).\n",
      "Cannot move to target thread (0x5cb1740)\n",
      "\n",
      "QObject::moveToThread: Current thread (0x5cb1740) is not the object's thread (0x5c58a20).\n",
      "Cannot move to target thread (0x5cb1740)\n",
      "\n",
      "QObject::moveToThread: Current thread (0x5cb1740) is not the object's thread (0x5c58a20).\n",
      "Cannot move to target thread (0x5cb1740)\n",
      "\n",
      "QObject::moveToThread: Current thread (0x5cb1740) is not the object's thread (0x5c58a20).\n",
      "Cannot move to target thread (0x5cb1740)\n",
      "\n",
      "QObject::moveToThread: Current thread (0x5cb1740) is not the object's thread (0x5c58a20).\n",
      "Cannot move to target thread (0x5cb1740)\n",
      "\n",
      "QObject::moveToThread: Current thread (0x5cb1740) is not the object's thread (0x5c58a20).\n",
      "Cannot move to target thread (0x5cb1740)\n",
      "\n",
      "QObject::moveToThread: Current thread (0x5cb1740) is not the object's thread (0x5c58a20).\n",
      "Cannot move to target thread (0x5cb1740)\n",
      "\n",
      "QObject::moveToThread: Current thread (0x5cb1740) is not the object's thread (0x5c58a20).\n",
      "Cannot move to target thread (0x5cb1740)\n",
      "\n",
      "QObject::moveToThread: Current thread (0x5cb1740) is not the object's thread (0x5c58a20).\n",
      "Cannot move to target thread (0x5cb1740)\n",
      "\n",
      "QObject::moveToThread: Current thread (0x5cb1740) is not the object's thread (0x5c58a20).\n",
      "Cannot move to target thread (0x5cb1740)\n",
      "\n",
      "QObject::moveToThread: Current thread (0x5cb1740) is not the object's thread (0x5c58a20).\n",
      "Cannot move to target thread (0x5cb1740)\n",
      "\n",
      "QObject::moveToThread: Current thread (0x5cb1740) is not the object's thread (0x5c58a20).\n",
      "Cannot move to target thread (0x5cb1740)\n",
      "\n",
      "QObject::moveToThread: Current thread (0x5cb1740) is not the object's thread (0x5c58a20).\n",
      "Cannot move to target thread (0x5cb1740)\n",
      "\n",
      "QObject::moveToThread: Current thread (0x5cb1740) is not the object's thread (0x5c58a20).\n",
      "Cannot move to target thread (0x5cb1740)\n",
      "\n",
      "QObject::moveToThread: Current thread (0x5cb1740) is not the object's thread (0x5c58a20).\n",
      "Cannot move to target thread (0x5cb1740)\n",
      "\n",
      "QObject::moveToThread: Current thread (0x5cb1740) is not the object's thread (0x5c58a20).\n",
      "Cannot move to target thread (0x5cb1740)\n",
      "\n",
      "QObject::moveToThread: Current thread (0x5cb1740) is not the object's thread (0x5c58a20).\n",
      "Cannot move to target thread (0x5cb1740)\n",
      "\n",
      "QObject::moveToThread: Current thread (0x5cb1740) is not the object's thread (0x5c58a20).\n",
      "Cannot move to target thread (0x5cb1740)\n",
      "\n",
      "QObject::moveToThread: Current thread (0x5cb1740) is not the object's thread (0x5c58a20).\n",
      "Cannot move to target thread (0x5cb1740)\n",
      "\n",
      "QObject::moveToThread: Current thread (0x5cb1740) is not the object's thread (0x5c58a20).\n",
      "Cannot move to target thread (0x5cb1740)\n",
      "\n"
     ]
    },
    {
     "name": "stdout",
     "output_type": "stream",
     "text": [
      "Access Denied\n",
      "[array([[0.01639169]], dtype=float32), array([[0.00059202]], dtype=float32), array([[0.00148708]], dtype=float32), array([[0.00036836]], dtype=float32), array([[0.03800222]], dtype=float32), array([[8.7479115e-05]], dtype=float32), array([[0.00195211]], dtype=float32), array([[0.00078848]], dtype=float32), array([[0.07538214]], dtype=float32), array([[0.00434613]], dtype=float32), array([[0.06118935]], dtype=float32), array([[0.00030798]], dtype=float32), array([[0.0008018]], dtype=float32), array([[0.00092262]], dtype=float32), array([[0.00013277]], dtype=float32), array([[0.00278163]], dtype=float32), array([[0.00061589]], dtype=float32), array([[0.00171682]], dtype=float32), array([[0.02875799]], dtype=float32), array([[0.00130644]], dtype=float32)]\n"
     ]
    }
   ],
   "source": [
    "cap = cv2.VideoCapture(0)\n",
    "\n",
    "while cap.isOpened():\n",
    "    ret, frame = cap.read()\n",
    "    \n",
    "    # Cut from to 250x250px\n",
    "    frame = frame[100:100+250,200:200+250,:]\n",
    "        \n",
    "    cv2.imshow('Image Collection', frame)\n",
    "    \n",
    "    # Verification Command\n",
    "    if cv2.waitKey(10) & 0XFF == ord('v'):\n",
    "        cv2.imwrite(os.path.join('application_data','input_image','input.jpg'),frame)\n",
    "        results, verfied = verify(model,detection_threshold=0.5, verifcation_threshold=0.5)\n",
    "        print(\"Access Granted\" if verfied else \"Access Denied\")\n",
    "        print(list(results))\n",
    "\n",
    "\n",
    "    # Quit the Capture\n",
    "    if cv2.waitKey(10) & 0XFF == ord('q'):\n",
    "        break\n",
    "\n",
    "cap.release()\n",
    "cv2.destroyAllWindows()"
   ]
  }
 ],
 "metadata": {
  "kernelspec": {
   "display_name": "Python 3 (ipykernel)",
   "language": "python",
   "name": "python3"
  },
  "language_info": {
   "codemirror_mode": {
    "name": "ipython",
    "version": 3
   },
   "file_extension": ".py",
   "mimetype": "text/x-python",
   "name": "python",
   "nbconvert_exporter": "python",
   "pygments_lexer": "ipython3",
   "version": "3.9.13"
  }
 },
 "nbformat": 4,
 "nbformat_minor": 5
}
